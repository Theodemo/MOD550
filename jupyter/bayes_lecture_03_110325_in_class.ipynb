{
 "cells": [
  {
   "cell_type": "markdown",
   "metadata": {},
   "source": [
    "# Decision Analysis"
   ]
  },
  {
   "cell_type": "code",
   "execution_count": 1,
   "metadata": {},
   "outputs": [],
   "source": [
    "from utils import set_pyplot_params\n",
    "set_pyplot_params()"
   ]
  },
  {
   "cell_type": "markdown",
   "metadata": {},
   "source": [
    "- This discussion presents a problem inspired by the game show *The Price is Right*.\n",
    "\n",
    "- It demonstrates Bayesian [decision analysis](https://en.wikipedia.org/wiki/Decision_analysis).\n",
    "\n",
    "- As in previous examples, we'll use data and prior distribution to compute a posterior distribution; then we'll use the posterior distribution to choose an optimal strategy, i.e. make a decision, in a game that involves bidding.\n",
    "\n",
    "- As part of the solution, we will use kernel density estimation (KDE) to estimate the prior distribution, and a normal distribution to compute the likelihood of the data."
   ]
  },
  {
   "cell_type": "markdown",
   "metadata": {},
   "source": [
    "## The Price Is Right Problem\n",
    "\n",
    "\n",
    "<img src=\"../figs/price-is-right-wheel-1170x780.jpg\" alt=\"Alternative Text\" width=\"500\"/>\n",
    "\n",
    "- On November 1, 2007, contestants named Letia and Nathaniel appeared on *The Price is Right*, an American television game show. \n",
    "\n",
    "- They competed in a game called \"The Showcase\", where the objective is to guess the price of a collection of prizes. \n",
    "\n",
    "- The contestant who comes closest to the actual price, without going over, wins the prizes.\n",
    "\n",
    "- Nathaniel went first. His showcase included a dishwasher, a wine cabinet, a laptop computer, and a car. He bid \\\\$26,000.\n",
    "\n",
    "- Letia's showcase included a pinball machine, a video arcade game, a pool table, and a cruise of the Bahamas. She bid \\\\$21,500.\n",
    "\n",
    "- The actual price of Nathaniel's showcase was \\\\$25,347. His bid was too high, so he lost.\n",
    "\n",
    "- The actual price of Letia's showcase was \\\\$21,578. \n",
    "\n",
    "- She was only off by \\\\$78, so she won her showcase and, because her bid was off by less than 250, she also won Nathaniel's showcase."
   ]
  },
  {
   "cell_type": "markdown",
   "metadata": {},
   "source": [
    "For a Bayesian thinker, this scenario suggests several questions:\n",
    "\n",
    "1. Before seeing the prizes, what prior beliefs should the contestants have about the price of the showcase?\n",
    "\n",
    "2. After seeing the prizes, how should the contestants update those beliefs?\n",
    "\n",
    "3. Based on the posterior distribution, what should the contestants bid?\n",
    "\n",
    "The third question demonstrates a common use of Bayesian methods: **decision analysis**."
   ]
  },
  {
   "cell_type": "markdown",
   "metadata": {},
   "source": [
    "## The Prior\n",
    "\n",
    "- To choose a prior distribution of prices, we can take advantage of data from previous episodes. Fortunately, [fans of the show keep detailed records](https://web.archive.org/web/20121107204942/http://www.tpirsummaries.8m.com/). \n",
    "\n",
    "- For this example, we will use the files containing the price of each showcase from the 2011 and 2012 seasons and the bids offered by the contestants."
   ]
  },
  {
   "cell_type": "markdown",
   "metadata": {},
   "source": [
    "The following function reads the data and cleans it up a little."
   ]
  },
  {
   "cell_type": "code",
   "execution_count": 3,
   "metadata": {
    "execution": {
     "iopub.execute_input": "2021-04-16T19:35:42.513237Z",
     "iopub.status.busy": "2021-04-16T19:35:42.512673Z",
     "iopub.status.idle": "2021-04-16T19:35:42.515256Z",
     "shell.execute_reply": "2021-04-16T19:35:42.514810Z"
    }
   },
   "outputs": [],
   "source": [
    "import pandas as pd\n",
    "\n",
    "def read_data(filename):\n",
    "    '''Read the showcase price data.'''\n",
    "    df = pd.read_csv(filename, index_col=0, skiprows=[1])\n",
    "    return df.dropna().transpose()"
   ]
  },
  {
   "cell_type": "markdown",
   "metadata": {},
   "source": [
    "I'll read both files and concatenate them."
   ]
  },
  {
   "cell_type": "code",
   "execution_count": 4,
   "metadata": {
    "execution": {
     "iopub.execute_input": "2021-04-16T19:35:42.519025Z",
     "iopub.status.busy": "2021-04-16T19:35:42.518583Z",
     "iopub.status.idle": "2021-04-16T19:35:42.547366Z",
     "shell.execute_reply": "2021-04-16T19:35:42.546804Z"
    }
   },
   "outputs": [],
   "source": [
    "df2011 = read_data('../data/showcases.2011.csv')\n",
    "df2012 = read_data('../data/showcases.2012.csv')\n",
    "\n",
    "df = pd.concat([df2011, df2012], ignore_index=True)"
   ]
  },
  {
   "cell_type": "code",
   "execution_count": 5,
   "metadata": {
    "execution": {
     "iopub.execute_input": "2021-04-16T19:35:42.550926Z",
     "iopub.status.busy": "2021-04-16T19:35:42.550422Z",
     "iopub.status.idle": "2021-04-16T19:35:42.553032Z",
     "shell.execute_reply": "2021-04-16T19:35:42.552623Z"
    },
    "tags": []
   },
   "outputs": [
    {
     "name": "stdout",
     "output_type": "stream",
     "text": [
      "(191, 6) (122, 6) (313, 6)\n"
     ]
    }
   ],
   "source": [
    "print(df2011.shape, df2012.shape, df.shape)"
   ]
  },
  {
   "cell_type": "markdown",
   "metadata": {},
   "source": [
    "Here's what the dataset looks like:"
   ]
  },
  {
   "cell_type": "code",
   "execution_count": 6,
   "metadata": {
    "execution": {
     "iopub.execute_input": "2021-04-16T19:35:42.558946Z",
     "iopub.status.busy": "2021-04-16T19:35:42.557889Z",
     "iopub.status.idle": "2021-04-16T19:35:42.570199Z",
     "shell.execute_reply": "2021-04-16T19:35:42.570579Z"
    }
   },
   "outputs": [
    {
     "data": {
      "text/html": [
       "<div>\n",
       "<style scoped>\n",
       "    .dataframe tbody tr th:only-of-type {\n",
       "        vertical-align: middle;\n",
       "    }\n",
       "\n",
       "    .dataframe tbody tr th {\n",
       "        vertical-align: top;\n",
       "    }\n",
       "\n",
       "    .dataframe thead th {\n",
       "        text-align: right;\n",
       "    }\n",
       "</style>\n",
       "<table border=\"1\" class=\"dataframe\">\n",
       "  <thead>\n",
       "    <tr style=\"text-align: right;\">\n",
       "      <th></th>\n",
       "      <th>Showcase 1</th>\n",
       "      <th>Showcase 2</th>\n",
       "      <th>Bid 1</th>\n",
       "      <th>Bid 2</th>\n",
       "      <th>Difference 1</th>\n",
       "      <th>Difference 2</th>\n",
       "    </tr>\n",
       "  </thead>\n",
       "  <tbody>\n",
       "    <tr>\n",
       "      <th>0</th>\n",
       "      <td>50969.0</td>\n",
       "      <td>45429.0</td>\n",
       "      <td>42000.0</td>\n",
       "      <td>34000.0</td>\n",
       "      <td>8969.0</td>\n",
       "      <td>11429.0</td>\n",
       "    </tr>\n",
       "    <tr>\n",
       "      <th>1</th>\n",
       "      <td>21901.0</td>\n",
       "      <td>34061.0</td>\n",
       "      <td>14000.0</td>\n",
       "      <td>59900.0</td>\n",
       "      <td>7901.0</td>\n",
       "      <td>-25839.0</td>\n",
       "    </tr>\n",
       "    <tr>\n",
       "      <th>2</th>\n",
       "      <td>32815.0</td>\n",
       "      <td>53186.0</td>\n",
       "      <td>32000.0</td>\n",
       "      <td>45000.0</td>\n",
       "      <td>815.0</td>\n",
       "      <td>8186.0</td>\n",
       "    </tr>\n",
       "  </tbody>\n",
       "</table>\n",
       "</div>"
      ],
      "text/plain": [
       "   Showcase 1  Showcase 2    Bid 1    Bid 2  Difference 1  Difference 2\n",
       "0     50969.0     45429.0  42000.0  34000.0        8969.0       11429.0\n",
       "1     21901.0     34061.0  14000.0  59900.0        7901.0      -25839.0\n",
       "2     32815.0     53186.0  32000.0  45000.0         815.0        8186.0"
      ]
     },
     "execution_count": 6,
     "metadata": {},
     "output_type": "execute_result"
    }
   ],
   "source": [
    "df.head(3)"
   ]
  },
  {
   "cell_type": "markdown",
   "metadata": {},
   "source": [
    "- The first two columns, `Showcase 1` and `Showcase 2`, are the values of the showcases in dollars.\n",
    "\n",
    "- The next two columns are the bids the contestants made.\n",
    "\n",
    "- The last two columns are the differences between the actual values and the bids."
   ]
  },
  {
   "cell_type": "markdown",
   "metadata": {},
   "source": [
    "## Kernel Density Estimation\n",
    "\n",
    "- This dataset contains the prices for 313 previous showcases, which we can think of as a sample from the population of possible prices.\n",
    "\n",
    "- We can use this sample to estimate the prior distribution of showcase prices.  \n",
    "\n",
    "- One way to do that is kernel density estimation (KDE), which uses the sample to estimate a smooth distribution.  \n",
    "\n",
    "- You can read about KDEs here: (https://mathisonian.github.io/kde).\n",
    "\n",
    "- SciPy provides `gaussian_kde`, which takes a sample and returns an object that represents the estimated distribution.\n",
    "\n",
    "- The following function takes `sample`, makes a KDE, evaluates it at a given sequence of quantities, `qs`, and returns the result as a normalized PMF."
   ]
  },
  {
   "cell_type": "code",
   "execution_count": 8,
   "metadata": {
    "execution": {
     "iopub.execute_input": "2021-04-16T19:35:42.574533Z",
     "iopub.status.busy": "2021-04-16T19:35:42.574043Z",
     "iopub.status.idle": "2021-04-16T19:35:42.576062Z",
     "shell.execute_reply": "2021-04-16T19:35:42.575582Z"
    }
   },
   "outputs": [],
   "source": [
    "from scipy.stats import gaussian_kde\n",
    "from empiricaldist import Pmf\n",
    "\n",
    "def kde_from_sample(sample, qs):\n",
    "    '''Make a kernel density estimate from a sample'''\n",
    "    kde = gaussian_kde(sample)\n",
    "    ps = kde(qs)\n",
    "    pmf = Pmf(ps, qs)\n",
    "    pmf.normalize()\n",
    "    return pmf"
   ]
  },
  {
   "cell_type": "markdown",
   "metadata": {},
   "source": [
    "We can use it to estimate the distribution of values for Showcase 1:"
   ]
  },
  {
   "cell_type": "code",
   "execution_count": 9,
   "metadata": {
    "execution": {
     "iopub.execute_input": "2021-04-16T19:35:42.584733Z",
     "iopub.status.busy": "2021-04-16T19:35:42.580411Z",
     "iopub.status.idle": "2021-04-16T19:35:42.587005Z",
     "shell.execute_reply": "2021-04-16T19:35:42.586599Z"
    }
   },
   "outputs": [],
   "source": [
    "import numpy as np\n",
    "\n",
    "qs = np.linspace(0, 80000, 81)\n",
    "prior1 = kde_from_sample(df['Showcase 1'], qs)"
   ]
  },
  {
   "cell_type": "markdown",
   "metadata": {},
   "source": [
    "Here's what it looks like:"
   ]
  },
  {
   "cell_type": "code",
   "execution_count": 10,
   "metadata": {
    "execution": {
     "iopub.execute_input": "2021-04-16T19:35:42.590496Z",
     "iopub.status.busy": "2021-04-16T19:35:42.590066Z",
     "iopub.status.idle": "2021-04-16T19:35:42.592375Z",
     "shell.execute_reply": "2021-04-16T19:35:42.591868Z"
    },
    "tags": []
   },
   "outputs": [],
   "source": [
    "from utils import decorate\n",
    "\n",
    "def decorate_value(title=''):\n",
    "    decorate(xlabel='Showcase value ($)',\n",
    "            ylabel='PMF',\n",
    "            title=title)"
   ]
  },
  {
   "cell_type": "code",
   "execution_count": 11,
   "metadata": {
    "execution": {
     "iopub.execute_input": "2021-04-16T19:35:42.596416Z",
     "iopub.status.busy": "2021-04-16T19:35:42.595823Z",
     "iopub.status.idle": "2021-04-16T19:35:42.800967Z",
     "shell.execute_reply": "2021-04-16T19:35:42.801311Z"
    },
    "tags": []
   },
   "outputs": [
    {
     "data": {
      "image/png": "[encoded data removed]",
      "text/plain": [
       "<Figure size 432x288 with 1 Axes>"
      ]
     },
     "metadata": {
      "needs_background": "light"
     },
     "output_type": "display_data"
    }
   ],
   "source": [
    "prior1.plot(label='Prior 1')\n",
    "decorate_value('Prior distribution of showcase value')"
   ]
  },
  {
   "cell_type": "markdown",
   "metadata": {},
   "source": [
    "**Exercise:** Use this function to make a `Pmf` that represents the prior distribution for Showcase 2, and plot it."
   ]
  },
  {
   "cell_type": "code",
   "execution_count": 13,
   "metadata": {
    "execution": {
     "iopub.execute_input": "2021-04-16T19:35:42.807216Z",
     "iopub.status.busy": "2021-04-16T19:35:42.806692Z",
     "iopub.status.idle": "2021-04-16T19:35:42.809224Z",
     "shell.execute_reply": "2021-04-16T19:35:42.808685Z"
    }
   },
   "outputs": [],
   "source": [
    "qs = np.linspace(0, 80000, 81)\n",
    "prior2 = kde_from_sample(df['Showcase 2'], qs)"
   ]
  },
  {
   "cell_type": "code",
   "execution_count": 14,
   "metadata": {
    "execution": {
     "iopub.execute_input": "2021-04-16T19:35:42.856760Z",
     "iopub.status.busy": "2021-04-16T19:35:42.856256Z",
     "iopub.status.idle": "2021-04-16T19:35:43.013351Z",
     "shell.execute_reply": "2021-04-16T19:35:43.013757Z"
    },
    "scrolled": true
   },
   "outputs": [
    {
     "data": {
      "image/png": "[encoded data removed]",
      "text/plain": [
       "<Figure size 432x288 with 1 Axes>"
      ]
     },
     "metadata": {
      "needs_background": "light"
     },
     "output_type": "display_data"
    }
   ],
   "source": [
    "prior1.plot(label='Prior 1')\n",
    "prior2.plot(label='Prior 2')\n",
    "decorate_value('Prior distribution of showcase value')"
   ]
  },
  {
   "cell_type": "markdown",
   "metadata": {},
   "source": [
    "## Distribution of Error\n",
    "\n",
    "- To update these priors, we have to answer these questions:\n",
    "\n",
    "\n",
    "* What data should we consider and how should we quantify it?\n",
    "\n",
    "* Can we compute a likelihood function; that is, for each hypothetical price, can we compute the conditional likelihood of the data?\n",
    "\n",
    "- To answer these questions, we will model each contestant as a price-guessing instrument with known error characteristics. \n",
    "\n",
    "- In this model, when the contestant sees the prizes, they guess the price of each prize and add up the prices.\n",
    "Let's call this total `guess`.\n",
    "\n",
    "\n",
    "- Now the question we have to answer is, \"If the actual price is `price`, what is the likelihood that the contestant's guess would be `guess`, i.e., $P(`guess`|`price`)$?\"\n",
    "\n",
    "- Equivalently, if we define `error = guess - price`, we can ask, \"What is the likelihood that the contestant's guess is off by `error`?\"\n",
    "\n",
    "- To answer this question, we'll use the historical data again. \n",
    "\n",
    "- For each showcase in the dataset, let's look at the difference between the contestant's bid and the actual price:"
   ]
  },
  {
   "cell_type": "code",
   "execution_count": 17,
   "metadata": {
    "execution": {
     "iopub.execute_input": "2021-04-16T19:35:43.018111Z",
     "iopub.status.busy": "2021-04-16T19:35:43.017611Z",
     "iopub.status.idle": "2021-04-16T19:35:43.019631Z",
     "shell.execute_reply": "2021-04-16T19:35:43.019982Z"
    }
   },
   "outputs": [],
   "source": [
    "sample_diff1 = df['Bid 1'] - df['Showcase 1']\n",
    "sample_diff2 = df['Bid 2'] - df['Showcase 2']"
   ]
  },
  {
   "cell_type": "markdown",
   "metadata": {},
   "source": [
    "To visualize the distribution of these differences, we can use KDE again."
   ]
  },
  {
   "cell_type": "code",
   "execution_count": 18,
   "metadata": {
    "execution": {
     "iopub.execute_input": "2021-04-16T19:35:43.027071Z",
     "iopub.status.busy": "2021-04-16T19:35:43.026529Z",
     "iopub.status.idle": "2021-04-16T19:35:43.028680Z",
     "shell.execute_reply": "2021-04-16T19:35:43.029157Z"
    }
   },
   "outputs": [],
   "source": [
    "qs = np.linspace(-40000, 20000, 61)\n",
    "kde_diff1 = kde_from_sample(sample_diff1, qs)\n",
    "kde_diff2 = kde_from_sample(sample_diff2, qs)"
   ]
  },
  {
   "cell_type": "markdown",
   "metadata": {},
   "source": [
    "Here's what these distributions look like:"
   ]
  },
  {
   "cell_type": "code",
   "execution_count": 20,
   "metadata": {
    "execution": {
     "iopub.execute_input": "2021-04-16T19:35:43.075959Z",
     "iopub.status.busy": "2021-04-16T19:35:43.048711Z",
     "iopub.status.idle": "2021-04-16T19:35:43.205035Z",
     "shell.execute_reply": "2021-04-16T19:35:43.205620Z"
    },
    "tags": []
   },
   "outputs": [
    {
     "data": {
      "image/png": "[encoded data removed]",
      "text/plain": [
       "<Figure size 432x288 with 1 Axes>"
      ]
     },
     "metadata": {
      "needs_background": "light"
     },
     "output_type": "display_data"
    }
   ],
   "source": [
    "kde_diff1.plot(label='Diff 1', color='C8')\n",
    "kde_diff2.plot(label='Diff 2', color='C4')\n",
    "\n",
    "decorate(xlabel='Difference in value ($)',\n",
    "        ylabel='PMF',\n",
    "        title='Difference between bid and actual value')"
   ]
  },
  {
   "cell_type": "markdown",
   "metadata": {},
   "source": [
    "- It looks like the bids are too low more often than too high, which makes sense.  Remember that under the rules of the game, you lose if you overbid, so contestants probably underbid a little deliberately.\n",
    "\n",
    "- For example, if they guess that the value of the showcase is \\\\$40,000, they might bid \\\\$36,000 to avoid going over."
   ]
  },
  {
   "cell_type": "markdown",
   "metadata": {},
   "source": [
    "- It looks like these distributions are well modeled by a normal distribution, so we can summarize them with their mean and standard deviation.\n",
    "\n",
    "- For example, here is the mean and standard deviation of `Diff` for Player 1."
   ]
  },
  {
   "cell_type": "code",
   "execution_count": null,
   "metadata": {
    "execution": {
     "iopub.execute_input": "2021-04-16T19:35:43.209840Z",
     "iopub.status.busy": "2021-04-16T19:35:43.209325Z",
     "iopub.status.idle": "2021-04-16T19:35:43.211530Z",
     "shell.execute_reply": "2021-04-16T19:35:43.211881Z"
    }
   },
   "outputs": [],
   "source": []
  },
  {
   "cell_type": "markdown",
   "metadata": {},
   "source": [
    "- Now we can use these differences to model the contestant's distribution of errors.\n",
    "\n",
    "- This step is a little tricky because we don't actually know the contestant's guesses; we only know their bids.\n",
    "\n",
    "\n",
    "- So we have to make some assumptions:\n",
    "\n",
    "\n",
    "* Let's assume that contestants underbid because they are being strategic, and that on average their guesses are accurate.  In other words, the mean of their errors is 0.\n",
    "\n",
    "* But let's also assume that the spread of the differences reflects the actual spread of their errors.  So, we'll use the standard deviation of the differences as the standard deviation of their errors.\n",
    "\n",
    "\n",
    "- Based on these assumptions, we'll make a normal distribution with parameters 0 and `std_diff1`.\n",
    "\n",
    "- SciPy provides an object called `norm` that represents a normal distribution with the given mean and standard deviation."
   ]
  },
  {
   "cell_type": "code",
   "execution_count": null,
   "metadata": {
    "execution": {
     "iopub.execute_input": "2021-04-16T19:35:43.215986Z",
     "iopub.status.busy": "2021-04-16T19:35:43.215405Z",
     "iopub.status.idle": "2021-04-16T19:35:43.217589Z",
     "shell.execute_reply": "2021-04-16T19:35:43.217195Z"
    }
   },
   "outputs": [],
   "source": []
  },
  {
   "cell_type": "markdown",
   "metadata": {},
   "source": [
    "- The result is an object that provides `pdf`, which evaluates the probability density function of the normal distribution.\n",
    "\n",
    "\n",
    "- For example, here is the probability density of `error=-100`, based on the distribution of errors for Player 1."
   ]
  },
  {
   "cell_type": "code",
   "execution_count": null,
   "metadata": {
    "execution": {
     "iopub.execute_input": "2021-04-16T19:35:43.221442Z",
     "iopub.status.busy": "2021-04-16T19:35:43.220947Z",
     "iopub.status.idle": "2021-04-16T19:35:43.223380Z",
     "shell.execute_reply": "2021-04-16T19:35:43.223743Z"
    }
   },
   "outputs": [],
   "source": []
  },
  {
   "cell_type": "markdown",
   "metadata": {},
   "source": [
    "- By itself, this number doesn't mean much, because probability densities are not probabilities. \n",
    "\n",
    "- But they are proportional to probabilities, so we can use them as likelihoods in a Bayesian update, as we'll see in the next section."
   ]
  },
  {
   "cell_type": "markdown",
   "metadata": {},
   "source": [
    "## Update\n",
    "\n",
    "- Suppose you are Player 1.  \n",
    "\n",
    "- You see the prizes in your showcase and your guess for the total price is \\\\$23,000.\n",
    "\n",
    "\n",
    "- From your guess we will subtract away each hypothetical price in the prior distribution; the result is your error under each hypothesis."
   ]
  },
  {
   "cell_type": "code",
   "execution_count": null,
   "metadata": {
    "execution": {
     "iopub.execute_input": "2021-04-16T19:35:43.226913Z",
     "iopub.status.busy": "2021-04-16T19:35:43.226469Z",
     "iopub.status.idle": "2021-04-16T19:35:43.228074Z",
     "shell.execute_reply": "2021-04-16T19:35:43.228429Z"
    }
   },
   "outputs": [],
   "source": []
  },
  {
   "cell_type": "markdown",
   "metadata": {},
   "source": [
    "- Now suppose we know, based on past performance, that your estimation error is well modeled by `error_dist1`.\n",
    "\n",
    "- Under that assumption we can compute the likelihood of your error under each hypothesis."
   ]
  },
  {
   "cell_type": "code",
   "execution_count": null,
   "metadata": {
    "execution": {
     "iopub.execute_input": "2021-04-16T19:35:43.231953Z",
     "iopub.status.busy": "2021-04-16T19:35:43.231397Z",
     "iopub.status.idle": "2021-04-16T19:35:43.233519Z",
     "shell.execute_reply": "2021-04-16T19:35:43.233990Z"
    }
   },
   "outputs": [],
   "source": []
  },
  {
   "cell_type": "markdown",
   "metadata": {},
   "source": [
    "The result is an array of likelihoods, which we can use to update the prior."
   ]
  },
  {
   "cell_type": "code",
   "execution_count": null,
   "metadata": {
    "execution": {
     "iopub.execute_input": "2021-04-16T19:35:43.239353Z",
     "iopub.status.busy": "2021-04-16T19:35:43.238671Z",
     "iopub.status.idle": "2021-04-16T19:35:43.241477Z",
     "shell.execute_reply": "2021-04-16T19:35:43.241931Z"
    },
    "tags": []
   },
   "outputs": [],
   "source": []
  },
  {
   "cell_type": "markdown",
   "metadata": {},
   "source": [
    "Here's what the posterior distribution looks like:"
   ]
  },
  {
   "cell_type": "code",
   "execution_count": null,
   "metadata": {
    "execution": {
     "iopub.execute_input": "2021-04-16T19:35:43.288160Z",
     "iopub.status.busy": "2021-04-16T19:35:43.287654Z",
     "iopub.status.idle": "2021-04-16T19:35:43.431834Z",
     "shell.execute_reply": "2021-04-16T19:35:43.432442Z"
    },
    "tags": []
   },
   "outputs": [],
   "source": []
  },
  {
   "cell_type": "markdown",
   "metadata": {},
   "source": [
    "- Because your initial guess (\\\\$23,000) is in the lower end of the range of the prior, the posterior distribution has shifted to the left. \n",
    "\n",
    "\n",
    "- We can compute the posterior mean to see by how much."
   ]
  },
  {
   "cell_type": "code",
   "execution_count": null,
   "metadata": {
    "execution": {
     "iopub.execute_input": "2021-04-16T19:35:43.436831Z",
     "iopub.status.busy": "2021-04-16T19:35:43.436115Z",
     "iopub.status.idle": "2021-04-16T19:35:43.440717Z",
     "shell.execute_reply": "2021-04-16T19:35:43.441327Z"
    }
   },
   "outputs": [],
   "source": []
  },
  {
   "cell_type": "markdown",
   "metadata": {},
   "source": [
    "- Before you saw the prizes, you expected to see a showcase with a value close to \\\\$30,000.\n",
    "\n",
    "- After making a guess of \\\\$23,000, you updated the prior distribution.\n",
    "\n",
    "- Based on the combination of the prior and your guess, you now expect the actual price to be about \\\\$26,000."
   ]
  },
  {
   "cell_type": "markdown",
   "metadata": {},
   "source": [
    "**Exercise:** Now suppose you are Player 2.  When you see your showcase, you guess that the total price is \\\\$38,000.\n",
    "\n",
    "Use `diff2` to construct a normal distribution that represents the distribution of your estimation errors.\n",
    "\n",
    "Compute the likelihood of your guess for each actual price and use it to update `prior2`.\n",
    "\n",
    "Plot the posterior distribution and compute the posterior mean.  Based on the prior and your guess, what do you expect the actual price of the showcase to be?"
   ]
  },
  {
   "cell_type": "code",
   "execution_count": null,
   "metadata": {
    "execution": {
     "iopub.execute_input": "2021-04-16T19:35:43.446313Z",
     "iopub.status.busy": "2021-04-16T19:35:43.445597Z",
     "iopub.status.idle": "2021-04-16T19:35:43.448186Z",
     "shell.execute_reply": "2021-04-16T19:35:43.448776Z"
    }
   },
   "outputs": [],
   "source": [
    "# Solution goes here"
   ]
  },
  {
   "cell_type": "code",
   "execution_count": null,
   "metadata": {
    "execution": {
     "iopub.execute_input": "2021-04-16T19:35:43.453527Z",
     "iopub.status.busy": "2021-04-16T19:35:43.452814Z",
     "iopub.status.idle": "2021-04-16T19:35:43.454765Z",
     "shell.execute_reply": "2021-04-16T19:35:43.455306Z"
    }
   },
   "outputs": [],
   "source": [
    "# Solution goes here"
   ]
  },
  {
   "cell_type": "code",
   "execution_count": null,
   "metadata": {
    "execution": {
     "iopub.execute_input": "2021-04-16T19:35:43.459870Z",
     "iopub.status.busy": "2021-04-16T19:35:43.459110Z",
     "iopub.status.idle": "2021-04-16T19:35:43.461269Z",
     "shell.execute_reply": "2021-04-16T19:35:43.461881Z"
    }
   },
   "outputs": [],
   "source": [
    "# Solution goes here"
   ]
  },
  {
   "cell_type": "code",
   "execution_count": null,
   "metadata": {
    "execution": {
     "iopub.execute_input": "2021-04-16T19:35:43.468130Z",
     "iopub.status.busy": "2021-04-16T19:35:43.467318Z",
     "iopub.status.idle": "2021-04-16T19:35:43.472187Z",
     "shell.execute_reply": "2021-04-16T19:35:43.471584Z"
    }
   },
   "outputs": [],
   "source": [
    "# Solution goes here"
   ]
  },
  {
   "cell_type": "code",
   "execution_count": null,
   "metadata": {
    "execution": {
     "iopub.execute_input": "2021-04-16T19:35:43.549426Z",
     "iopub.status.busy": "2021-04-16T19:35:43.506440Z",
     "iopub.status.idle": "2021-04-16T19:35:43.768369Z",
     "shell.execute_reply": "2021-04-16T19:35:43.769420Z"
    }
   },
   "outputs": [],
   "source": [
    "# Solution goes here"
   ]
  },
  {
   "cell_type": "code",
   "execution_count": null,
   "metadata": {
    "execution": {
     "iopub.execute_input": "2021-04-16T19:35:43.773670Z",
     "iopub.status.busy": "2021-04-16T19:35:43.772931Z",
     "iopub.status.idle": "2021-04-16T19:35:43.776721Z",
     "shell.execute_reply": "2021-04-16T19:35:43.777489Z"
    }
   },
   "outputs": [],
   "source": [
    "# Solution goes here"
   ]
  },
  {
   "cell_type": "markdown",
   "metadata": {},
   "source": [
    "- Before you saw the prizes, you expected to see a showcase with a value close to \\\\$31,000.\n",
    "\n",
    "- After making a guess of \\\\$36,000, you updated the prior distribution.\n",
    "\n",
    "- Based on the combination of the prior and your guess, you now expect the actual price to be about \\\\$34,300."
   ]
  },
  {
   "cell_type": "markdown",
   "metadata": {},
   "source": [
    "## Probability of Winning\n",
    "\n",
    "- Now that we have a posterior distribution for each player, let's think about strategy.\n",
    "\n",
    "\n",
    "- First, from the point of view of Player 1, let's compute the probability that Player 2 overbids.  \n",
    "\n",
    "- To keep it simple, we'll use only the performance of past players, ignoring the value of the showcase. \n",
    "\n",
    "\n",
    "- The following function takes a sequence of past bids and returns the fraction that overbid."
   ]
  },
  {
   "cell_type": "code",
   "execution_count": null,
   "metadata": {
    "execution": {
     "iopub.execute_input": "2021-04-16T19:35:43.782090Z",
     "iopub.status.busy": "2021-04-16T19:35:43.781438Z",
     "iopub.status.idle": "2021-04-16T19:35:43.785129Z",
     "shell.execute_reply": "2021-04-16T19:35:43.785964Z"
    }
   },
   "outputs": [],
   "source": []
  },
  {
   "cell_type": "markdown",
   "metadata": {},
   "source": [
    "Here's an estimate for the probability that Player 2 overbids."
   ]
  },
  {
   "cell_type": "code",
   "execution_count": null,
   "metadata": {
    "execution": {
     "iopub.execute_input": "2021-04-16T19:35:43.791906Z",
     "iopub.status.busy": "2021-04-16T19:35:43.791267Z",
     "iopub.status.idle": "2021-04-16T19:35:43.798095Z",
     "shell.execute_reply": "2021-04-16T19:35:43.797335Z"
    }
   },
   "outputs": [],
   "source": []
  },
  {
   "cell_type": "markdown",
   "metadata": {},
   "source": [
    "- Now suppose Player 1 underbids by \\\\$5000.\n",
    "\n",
    "- What is the probability that Player 2 underbids by more?\n",
    "\n",
    "\n",
    "- The following function uses past performance to estimate the probability that a player underbids by more than a given amount, `diff`:"
   ]
  },
  {
   "cell_type": "code",
   "execution_count": null,
   "metadata": {
    "execution": {
     "iopub.execute_input": "2021-04-16T19:35:43.803290Z",
     "iopub.status.busy": "2021-04-16T19:35:43.802451Z",
     "iopub.status.idle": "2021-04-16T19:35:43.807092Z",
     "shell.execute_reply": "2021-04-16T19:35:43.806213Z"
    }
   },
   "outputs": [],
   "source": []
  },
  {
   "cell_type": "markdown",
   "metadata": {},
   "source": [
    "Here's the probability that Player 2 underbids by more than \\\\$5000."
   ]
  },
  {
   "cell_type": "code",
   "execution_count": null,
   "metadata": {
    "execution": {
     "iopub.execute_input": "2021-04-16T19:35:43.812801Z",
     "iopub.status.busy": "2021-04-16T19:35:43.812084Z",
     "iopub.status.idle": "2021-04-16T19:35:43.820076Z",
     "shell.execute_reply": "2021-04-16T19:35:43.819320Z"
    }
   },
   "outputs": [],
   "source": []
  },
  {
   "cell_type": "markdown",
   "metadata": {},
   "source": [
    "And here's the probability they underbid by more than \\\\$10,000."
   ]
  },
  {
   "cell_type": "code",
   "execution_count": null,
   "metadata": {
    "execution": {
     "iopub.execute_input": "2021-04-16T19:35:43.826928Z",
     "iopub.status.busy": "2021-04-16T19:35:43.826246Z",
     "iopub.status.idle": "2021-04-16T19:35:43.830095Z",
     "shell.execute_reply": "2021-04-16T19:35:43.830762Z"
    }
   },
   "outputs": [],
   "source": []
  },
  {
   "cell_type": "markdown",
   "metadata": {},
   "source": [
    "We can combine these functions to compute the probability that Player 1 wins, given the difference between their bid and the actual price:"
   ]
  },
  {
   "cell_type": "code",
   "execution_count": null,
   "metadata": {
    "execution": {
     "iopub.execute_input": "2021-04-16T19:35:43.837850Z",
     "iopub.status.busy": "2021-04-16T19:35:43.837006Z",
     "iopub.status.idle": "2021-04-16T19:35:43.840521Z",
     "shell.execute_reply": "2021-04-16T19:35:43.839477Z"
    }
   },
   "outputs": [],
   "source": []
  },
  {
   "cell_type": "markdown",
   "metadata": {},
   "source": [
    "- Assume you you are Player 1\n",
    "\n",
    "- Here's the probability that you win, given that you underbid by \\\\$5000."
   ]
  },
  {
   "cell_type": "code",
   "execution_count": null,
   "metadata": {
    "execution": {
     "iopub.execute_input": "2021-04-16T19:35:43.846964Z",
     "iopub.status.busy": "2021-04-16T19:35:43.846152Z",
     "iopub.status.idle": "2021-04-16T19:35:43.848940Z",
     "shell.execute_reply": "2021-04-16T19:35:43.849568Z"
    }
   },
   "outputs": [],
   "source": []
  },
  {
   "cell_type": "markdown",
   "metadata": {},
   "source": [
    "Now let's look at the probability of winning for a range of possible differences."
   ]
  },
  {
   "cell_type": "code",
   "execution_count": null,
   "metadata": {
    "execution": {
     "iopub.execute_input": "2021-04-16T19:35:43.900383Z",
     "iopub.status.busy": "2021-04-16T19:35:43.880078Z",
     "iopub.status.idle": "2021-04-16T19:35:43.945743Z",
     "shell.execute_reply": "2021-04-16T19:35:43.945174Z"
    }
   },
   "outputs": [],
   "source": []
  },
  {
   "cell_type": "markdown",
   "metadata": {},
   "source": [
    "Here's what it looks like:"
   ]
  },
  {
   "cell_type": "code",
   "execution_count": null,
   "metadata": {
    "execution": {
     "iopub.execute_input": "2021-04-16T19:35:43.983597Z",
     "iopub.status.busy": "2021-04-16T19:35:43.976147Z",
     "iopub.status.idle": "2021-04-16T19:35:44.200342Z",
     "shell.execute_reply": "2021-04-16T19:35:44.199432Z"
    },
    "tags": []
   },
   "outputs": [],
   "source": []
  },
  {
   "cell_type": "markdown",
   "metadata": {},
   "source": [
    "- If you underbid by \\\\$30,000, the chance of winning is about 30%, which is mostly the chance your opponent overbids.\n",
    "\n",
    "\n",
    "- As your bids gets closer to the actual price, your chance of winning approaches 1.\n",
    "\n",
    "\n",
    "- And, of course, if you overbid, you lose (even if your opponent also overbids)."
   ]
  },
  {
   "cell_type": "markdown",
   "metadata": {},
   "source": [
    "**Exercise:** Run the same analysis from the point of view of Player 2.  Using the sample of differences from Player 1, compute:\n",
    "\n",
    "1. The probability that Player 1 overbids.\n",
    "\n",
    "2. The probability that Player 1 underbids by more than \\\\$5000.\n",
    "\n",
    "3. The probability that Player 2 wins, given that they underbid by \\\\$5000.\n",
    "\n",
    "Then plot the probability that Player 2 wins for a range of possible differences between their bid and the actual price."
   ]
  },
  {
   "cell_type": "code",
   "execution_count": null,
   "metadata": {
    "execution": {
     "iopub.execute_input": "2021-04-16T19:35:44.207596Z",
     "iopub.status.busy": "2021-04-16T19:35:44.206660Z",
     "iopub.status.idle": "2021-04-16T19:35:44.210043Z",
     "shell.execute_reply": "2021-04-16T19:35:44.210868Z"
    }
   },
   "outputs": [],
   "source": [
    "# Solution goes here"
   ]
  },
  {
   "cell_type": "code",
   "execution_count": null,
   "metadata": {
    "execution": {
     "iopub.execute_input": "2021-04-16T19:35:44.218842Z",
     "iopub.status.busy": "2021-04-16T19:35:44.217621Z",
     "iopub.status.idle": "2021-04-16T19:35:44.221106Z",
     "shell.execute_reply": "2021-04-16T19:35:44.222054Z"
    }
   },
   "outputs": [],
   "source": [
    "# Solution goes here"
   ]
  },
  {
   "cell_type": "code",
   "execution_count": null,
   "metadata": {
    "execution": {
     "iopub.execute_input": "2021-04-16T19:35:44.230669Z",
     "iopub.status.busy": "2021-04-16T19:35:44.229367Z",
     "iopub.status.idle": "2021-04-16T19:35:44.233645Z",
     "shell.execute_reply": "2021-04-16T19:35:44.234317Z"
    }
   },
   "outputs": [],
   "source": [
    "# Solution goes here"
   ]
  },
  {
   "cell_type": "code",
   "execution_count": null,
   "metadata": {
    "execution": {
     "iopub.execute_input": "2021-04-16T19:35:44.252935Z",
     "iopub.status.busy": "2021-04-16T19:35:44.252459Z",
     "iopub.status.idle": "2021-04-16T19:35:44.313662Z",
     "shell.execute_reply": "2021-04-16T19:35:44.314024Z"
    }
   },
   "outputs": [],
   "source": [
    "# Solution goes here"
   ]
  },
  {
   "cell_type": "code",
   "execution_count": null,
   "metadata": {
    "execution": {
     "iopub.execute_input": "2021-04-16T19:35:44.357956Z",
     "iopub.status.busy": "2021-04-16T19:35:44.339391Z",
     "iopub.status.idle": "2021-04-16T19:35:44.564128Z",
     "shell.execute_reply": "2021-04-16T19:35:44.563691Z"
    }
   },
   "outputs": [],
   "source": [
    "# Solution goes here"
   ]
  },
  {
   "cell_type": "markdown",
   "metadata": {},
   "source": [
    "## Decision Analysis\n",
    "\n",
    "- In the previous section we computed the probability of winning, given that we have underbid by a particular amount.\n",
    "\n",
    "\n",
    "- In reality the contestants don't know how much they have underbid by, because they don't know the actual price.\n",
    "\n",
    "\n",
    "- But they do have a posterior distribution that represents their beliefs about the actual price, and they can use that to estimate their probability of winning with a given bid.\n",
    "\n",
    "\n",
    "- The following function takes a possible bid, a posterior distribution of actual prices, and a sample of differences for the opponent.\n",
    "\n",
    "\n",
    "- It loops through the hypothetical prices in the posterior distribution and, for each price,\n",
    "\n",
    "1. Computes the difference between the bid and the hypothetical price,\n",
    "\n",
    "2. Computes the probability that the player wins, given that difference, and\n",
    "\n",
    "3. Adds up the weighted sum of the probabilities, where the weights are the probabilities in the posterior distribution. "
   ]
  },
  {
   "cell_type": "code",
   "execution_count": null,
   "metadata": {
    "execution": {
     "iopub.execute_input": "2021-04-16T19:35:44.570768Z",
     "iopub.status.busy": "2021-04-16T19:35:44.570139Z",
     "iopub.status.idle": "2021-04-16T19:35:44.574093Z",
     "shell.execute_reply": "2021-04-16T19:35:44.573672Z"
    }
   },
   "outputs": [],
   "source": []
  },
  {
   "cell_type": "markdown",
   "metadata": {},
   "source": [
    "- This loop implements the law of total probability:\n",
    "\n",
    "\n",
    "$P(win) = \\sum_{price} P(price) ~ P(win ~|~ price)$\n",
    "\n",
    "\n",
    "- Here's the probability that Player 1 wins, based on a bid of \\\\$25,000 and the posterior distribution `posterior1`."
   ]
  },
  {
   "cell_type": "code",
   "execution_count": null,
   "metadata": {
    "execution": {
     "iopub.execute_input": "2021-04-16T19:35:44.628806Z",
     "iopub.status.busy": "2021-04-16T19:35:44.612939Z",
     "iopub.status.idle": "2021-04-16T19:35:44.632948Z",
     "shell.execute_reply": "2021-04-16T19:35:44.633353Z"
    }
   },
   "outputs": [],
   "source": []
  },
  {
   "cell_type": "markdown",
   "metadata": {},
   "source": [
    "Now we can loop through a series of possible bids and compute the probability of winning for each one."
   ]
  },
  {
   "cell_type": "code",
   "execution_count": null,
   "metadata": {
    "execution": {
     "iopub.execute_input": "2021-04-16T19:35:44.708685Z",
     "iopub.status.busy": "2021-04-16T19:35:44.672661Z",
     "iopub.status.idle": "2021-04-16T19:35:46.270662Z",
     "shell.execute_reply": "2021-04-16T19:35:46.270147Z"
    }
   },
   "outputs": [],
   "source": []
  },
  {
   "cell_type": "markdown",
   "metadata": {},
   "source": [
    "Here are the results."
   ]
  },
  {
   "cell_type": "code",
   "execution_count": null,
   "metadata": {
    "execution": {
     "iopub.execute_input": "2021-04-16T19:35:46.306239Z",
     "iopub.status.busy": "2021-04-16T19:35:46.291839Z",
     "iopub.status.idle": "2021-04-16T19:35:46.422364Z",
     "shell.execute_reply": "2021-04-16T19:35:46.421956Z"
    },
    "tags": []
   },
   "outputs": [],
   "source": []
  },
  {
   "cell_type": "markdown",
   "metadata": {},
   "source": [
    "And here's the bid that maximizes Player 1's chance of winning."
   ]
  },
  {
   "cell_type": "code",
   "execution_count": null,
   "metadata": {
    "execution": {
     "iopub.execute_input": "2021-04-16T19:35:46.425882Z",
     "iopub.status.busy": "2021-04-16T19:35:46.425408Z",
     "iopub.status.idle": "2021-04-16T19:35:46.430103Z",
     "shell.execute_reply": "2021-04-16T19:35:46.429712Z"
    }
   },
   "outputs": [],
   "source": []
  },
  {
   "cell_type": "code",
   "execution_count": null,
   "metadata": {
    "execution": {
     "iopub.execute_input": "2021-04-16T19:35:46.433880Z",
     "iopub.status.busy": "2021-04-16T19:35:46.433042Z",
     "iopub.status.idle": "2021-04-16T19:35:46.437889Z",
     "shell.execute_reply": "2021-04-16T19:35:46.437462Z"
    }
   },
   "outputs": [],
   "source": []
  },
  {
   "cell_type": "markdown",
   "metadata": {},
   "source": [
    "- Recall that your guess was \\\\$23,000.\n",
    "\n",
    "- Using your guess to compute the posterior distribution, the posterior mean is about \\\\$26,000.\n",
    "\n",
    "- But the bid that maximizes your chance of winning is \\\\$21,000."
   ]
  },
  {
   "cell_type": "markdown",
   "metadata": {},
   "source": [
    "**Exercise:** Do the same analysis for Player 2."
   ]
  },
  {
   "cell_type": "code",
   "execution_count": null,
   "metadata": {
    "execution": {
     "iopub.execute_input": "2021-04-16T19:35:46.495866Z",
     "iopub.status.busy": "2021-04-16T19:35:46.460137Z",
     "iopub.status.idle": "2021-04-16T19:35:47.898014Z",
     "shell.execute_reply": "2021-04-16T19:35:47.897569Z"
    }
   },
   "outputs": [],
   "source": [
    "# Solution goes here"
   ]
  },
  {
   "cell_type": "code",
   "execution_count": null,
   "metadata": {
    "execution": {
     "iopub.execute_input": "2021-04-16T19:35:47.916760Z",
     "iopub.status.busy": "2021-04-16T19:35:47.915987Z",
     "iopub.status.idle": "2021-04-16T19:35:48.073976Z",
     "shell.execute_reply": "2021-04-16T19:35:48.073607Z"
    }
   },
   "outputs": [],
   "source": [
    "# Solution goes here"
   ]
  },
  {
   "cell_type": "code",
   "execution_count": null,
   "metadata": {
    "execution": {
     "iopub.execute_input": "2021-04-16T19:35:48.077656Z",
     "iopub.status.busy": "2021-04-16T19:35:48.077009Z",
     "iopub.status.idle": "2021-04-16T19:35:48.079401Z",
     "shell.execute_reply": "2021-04-16T19:35:48.079754Z"
    }
   },
   "outputs": [],
   "source": [
    "# Solution goes here"
   ]
  },
  {
   "cell_type": "code",
   "execution_count": null,
   "metadata": {
    "execution": {
     "iopub.execute_input": "2021-04-16T19:35:48.083673Z",
     "iopub.status.busy": "2021-04-16T19:35:48.082935Z",
     "iopub.status.idle": "2021-04-16T19:35:48.086036Z",
     "shell.execute_reply": "2021-04-16T19:35:48.085566Z"
    }
   },
   "outputs": [],
   "source": [
    "# Solution goes here"
   ]
  },
  {
   "cell_type": "markdown",
   "metadata": {},
   "source": [
    "## Maximizing Expected Gain\n",
    "\n",
    "- In the previous section we computed the bid that maximizes your chance of winning.\n",
    "\n",
    "- And if that's your goal, the bid we computed is optimal.\n",
    "\n",
    "\n",
    "- But winning isn't everything.\n",
    "\n",
    "- Remember that if your bid is off by \\\\$250 or less, you win both showcases.\n",
    "\n",
    "- So it might be a good idea to increase your bid a little: it increases the chance you overbid and lose, but it also increases the chance of winning both showcases.\n",
    "\n",
    "\n",
    "- Let's see how that works out.\n",
    "\n",
    "- The following function computes how much you will win, on average, given your bid, the actual price, and a sample of errors for your opponent."
   ]
  },
  {
   "cell_type": "code",
   "execution_count": null,
   "metadata": {
    "execution": {
     "iopub.execute_input": "2021-04-16T19:35:48.089830Z",
     "iopub.status.busy": "2021-04-16T19:35:48.089389Z",
     "iopub.status.idle": "2021-04-16T19:35:48.091415Z",
     "shell.execute_reply": "2021-04-16T19:35:48.091026Z"
    }
   },
   "outputs": [],
   "source": []
  },
  {
   "cell_type": "markdown",
   "metadata": {},
   "source": [
    "For example, if the actual price is \\\\$35000 \n",
    "and you bid \\\\$30000, \n",
    "you will win about \\\\$23,600 worth of prizes on average, taking into account your probability of losing, winning one showcase, or winning both."
   ]
  },
  {
   "cell_type": "code",
   "execution_count": null,
   "metadata": {
    "execution": {
     "iopub.execute_input": "2021-04-16T19:35:48.095957Z",
     "iopub.status.busy": "2021-04-16T19:35:48.095151Z",
     "iopub.status.idle": "2021-04-16T19:35:48.098364Z",
     "shell.execute_reply": "2021-04-16T19:35:48.097922Z"
    }
   },
   "outputs": [],
   "source": []
  },
  {
   "cell_type": "markdown",
   "metadata": {},
   "source": [
    "- In reality we don't know the actual price, but we have a posterior distribution that represents what we know about it.\n",
    "\n",
    "- By averaging over the prices and probabilities in the posterior distribution, we can compute the expected gain for a particular bid.\n",
    "\n",
    "\n",
    "- In this context, \"expected\" means the average over the possible showcase values, weighted by their probabilities, i.e,, their expected value."
   ]
  },
  {
   "cell_type": "code",
   "execution_count": null,
   "metadata": {
    "execution": {
     "iopub.execute_input": "2021-04-16T19:35:48.102421Z",
     "iopub.status.busy": "2021-04-16T19:35:48.101903Z",
     "iopub.status.idle": "2021-04-16T19:35:48.104181Z",
     "shell.execute_reply": "2021-04-16T19:35:48.103665Z"
    }
   },
   "outputs": [],
   "source": []
  },
  {
   "cell_type": "markdown",
   "metadata": {},
   "source": [
    "For the posterior we computed earlier, based on a guess of \\\\$23,000, the expected gain for a bid of \\\\$21,000 is about \\\\$16,900."
   ]
  },
  {
   "cell_type": "code",
   "execution_count": null,
   "metadata": {
    "execution": {
     "iopub.execute_input": "2021-04-16T19:35:48.137026Z",
     "iopub.status.busy": "2021-04-16T19:35:48.136553Z",
     "iopub.status.idle": "2021-04-16T19:35:48.139335Z",
     "shell.execute_reply": "2021-04-16T19:35:48.138880Z"
    }
   },
   "outputs": [],
   "source": []
  },
  {
   "cell_type": "markdown",
   "metadata": {},
   "source": [
    "But can we do any better? \n",
    "\n",
    "To find out, we can loop through a range of bids and find the one that maximizes expected gain."
   ]
  },
  {
   "cell_type": "code",
   "execution_count": null,
   "metadata": {
    "execution": {
     "iopub.execute_input": "2021-04-16T19:35:48.212459Z",
     "iopub.status.busy": "2021-04-16T19:35:48.176771Z",
     "iopub.status.idle": "2021-04-16T19:35:49.578032Z",
     "shell.execute_reply": "2021-04-16T19:35:49.577538Z"
    }
   },
   "outputs": [],
   "source": []
  },
  {
   "cell_type": "markdown",
   "metadata": {},
   "source": [
    "Here are the results."
   ]
  },
  {
   "cell_type": "code",
   "execution_count": null,
   "metadata": {
    "execution": {
     "iopub.execute_input": "2021-04-16T19:35:49.595312Z",
     "iopub.status.busy": "2021-04-16T19:35:49.594806Z",
     "iopub.status.idle": "2021-04-16T19:35:49.758820Z",
     "shell.execute_reply": "2021-04-16T19:35:49.759161Z"
    },
    "tags": []
   },
   "outputs": [],
   "source": []
  },
  {
   "cell_type": "markdown",
   "metadata": {},
   "source": [
    "Here is the optimal bid."
   ]
  },
  {
   "cell_type": "code",
   "execution_count": null,
   "metadata": {
    "execution": {
     "iopub.execute_input": "2021-04-16T19:35:49.763145Z",
     "iopub.status.busy": "2021-04-16T19:35:49.762475Z",
     "iopub.status.idle": "2021-04-16T19:35:49.764913Z",
     "shell.execute_reply": "2021-04-16T19:35:49.765309Z"
    }
   },
   "outputs": [],
   "source": []
  },
  {
   "cell_type": "markdown",
   "metadata": {},
   "source": [
    "With that bid, the expected gain is about \\\\$17,400."
   ]
  },
  {
   "cell_type": "code",
   "execution_count": null,
   "metadata": {
    "execution": {
     "iopub.execute_input": "2021-04-16T19:35:49.768943Z",
     "iopub.status.busy": "2021-04-16T19:35:49.768405Z",
     "iopub.status.idle": "2021-04-16T19:35:49.771158Z",
     "shell.execute_reply": "2021-04-16T19:35:49.770667Z"
    }
   },
   "outputs": [],
   "source": []
  },
  {
   "cell_type": "markdown",
   "metadata": {},
   "source": [
    "Recall that your initial guess was \\\\$23,000.\n",
    "The bid that maximizes the chance of winning is \\\\$21,000.\n",
    "And the bid that maximizes your expected gain is \\\\$22,000."
   ]
  },
  {
   "cell_type": "markdown",
   "metadata": {},
   "source": [
    "**Exercise:** Do the same analysis for Player 2."
   ]
  },
  {
   "cell_type": "code",
   "execution_count": null,
   "metadata": {
    "execution": {
     "iopub.execute_input": "2021-04-16T19:35:49.833753Z",
     "iopub.status.busy": "2021-04-16T19:35:49.808430Z",
     "iopub.status.idle": "2021-04-16T19:35:51.251753Z",
     "shell.execute_reply": "2021-04-16T19:35:51.252169Z"
    }
   },
   "outputs": [],
   "source": [
    "# Solution goes here"
   ]
  },
  {
   "cell_type": "code",
   "execution_count": null,
   "metadata": {
    "execution": {
     "iopub.execute_input": "2021-04-16T19:35:51.336820Z",
     "iopub.status.busy": "2021-04-16T19:35:51.336306Z",
     "iopub.status.idle": "2021-04-16T19:35:51.527770Z",
     "shell.execute_reply": "2021-04-16T19:35:51.528265Z"
    }
   },
   "outputs": [],
   "source": [
    "# Solution goes here"
   ]
  },
  {
   "cell_type": "code",
   "execution_count": null,
   "metadata": {
    "execution": {
     "iopub.execute_input": "2021-04-16T19:35:51.532762Z",
     "iopub.status.busy": "2021-04-16T19:35:51.532102Z",
     "iopub.status.idle": "2021-04-16T19:35:51.535667Z",
     "shell.execute_reply": "2021-04-16T19:35:51.535248Z"
    }
   },
   "outputs": [],
   "source": [
    "# Solution goes here"
   ]
  },
  {
   "cell_type": "code",
   "execution_count": null,
   "metadata": {
    "execution": {
     "iopub.execute_input": "2021-04-16T19:35:51.555414Z",
     "iopub.status.busy": "2021-04-16T19:35:51.554109Z",
     "iopub.status.idle": "2021-04-16T19:35:51.557359Z",
     "shell.execute_reply": "2021-04-16T19:35:51.554778Z"
    }
   },
   "outputs": [],
   "source": [
    "# Solution goes here"
   ]
  },
  {
   "cell_type": "markdown",
   "metadata": {},
   "source": [
    "## Summary\n",
    "\n",
    "We have discussed a lot of stuff, so let's review the steps:\n",
    "\n",
    "1. First we used KDE and data from past shows to estimate prior distributions for the values of the showcases.\n",
    "\n",
    "2. Then we used bids from past shows to model the distribution of errors as a normal distribution.\n",
    "\n",
    "3. We did a Bayesian update using the distribution of errors to compute the likelihood of the data.\n",
    "\n",
    "4. We used the posterior distribution for the value of the showcase to compute the probability of winning for each possible bid, and identified the bid that maximizes the chance of winning.\n",
    "\n",
    "5. Finally, we used probability of winning to compute the expected gain for each possible bid, and identified the bid that maximizes expected gain.\n",
    "\n",
    "- Incidentally, this example demonstrates the hazard of using the word \"optimal\" without specifying what you are optimizing.\n",
    "\n",
    "- The bid that maximizes the chance of winning is not generally the same as the bid that maximizes expected gain."
   ]
  },
  {
   "cell_type": "markdown",
   "metadata": {},
   "source": [
    "## Discussion\n",
    "\n",
    "When people discuss the pros and cons of Bayesian estimation, as contrasted with classical methods sometimes called \"frequentist\", they often claim that in many cases Bayesian methods and frequentist methods produce the same results.\n",
    "\n",
    "I would argue that this claim is mistaken because Bayesian and frequentist method produce different *kinds* of results:\n",
    "\n",
    "* The result of frequentist methods is usually a single value that is considered to be the best estimate (by one of several criteria) or an interval that quantifies the precision of the estimate.\n",
    "\n",
    "* The result of Bayesian methods is a posterior distribution that represents all possible outcomes and their probabilities."
   ]
  },
  {
   "cell_type": "markdown",
   "metadata": {},
   "source": [
    "- Now, you can use the posterior distribution to choose a \"best\" estimate or compute an interval.\n",
    "\n",
    "- And in that case the result might be the same as the frequentist estimate.\n",
    "\n",
    "\n",
    "- But doing so discards useful information and, I would argue, eliminates the primary benefit of Bayesian methods: the posterior distribution is more useful than a single estimate, or even an interval."
   ]
  },
  {
   "cell_type": "markdown",
   "metadata": {},
   "source": [
    "- The example we have discussed here demonstrates the point.\n",
    "\n",
    "- Using the entire posterior distribution, we can compute the bid that maximizes the probability of winning, or the bid that maximizes expected gain, even if the rules for computing the gain are complicated (and nonlinear).\n",
    "\n",
    "\n",
    "- With a single estimate or an interval, we can't do that, even if they are \"optimal\" in some sense.\n",
    "\n",
    "- In general, frequentist estimation provides little guidance for decision-making.\n",
    "\n",
    "\n",
    "- If you hear someone say that Bayesian and frequentist methods produce the same results, you can be confident that they don't understand Bayesian methods."
   ]
  },
  {
   "cell_type": "markdown",
   "metadata": {
    "tags": []
   },
   "source": [
    "Now it's your turn.  Choose a prior that you think is reasonable, update it with the data you are given, and then use the posterior distribution to do the analysis I just demonstrated."
   ]
  },
  {
   "cell_type": "markdown",
   "metadata": {},
   "source": [
    "# The End"
   ]
  }
 ],
 "metadata": {
  "finalized": {
   "timestamp": 1741678021184,
   "trusted": false
  },
  "kernelspec": {
   "display_name": "Python 3 (ipykernel)",
   "language": "python",
   "name": "python3"
  },
  "language_info": {
   "codemirror_mode": {
    "name": "ipython",
    "version": 3
   },
   "file_extension": ".py",
   "mimetype": "text/x-python",
   "name": "python",
   "nbconvert_exporter": "python",
   "pygments_lexer": "ipython3",
   "version": "3.8.11"
  }
 },
 "nbformat": 4,
 "nbformat_minor": 4
}
